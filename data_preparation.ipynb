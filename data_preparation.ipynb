{
 "cells": [
  {
   "cell_type": "code",
   "execution_count": 1,
   "metadata": {},
   "outputs": [],
   "source": [
    "import cv2\n",
    "import random\n",
    "import os\n",
    "import numpy as np"
   ]
  },
  {
   "cell_type": "code",
   "execution_count": 11,
   "metadata": {},
   "outputs": [],
   "source": [
    "IMG_SIZE = 150\n",
    "IMG_CLASS = \"cb\"\n",
    "IMG_DIR = f\"./{IMG_CLASS}\"\n",
    "SRC_IMG = f\"./{IMG_CLASS}.jpg\"\n",
    "\n",
    "GLOBAL_COUNT = 0\n",
    "\n",
    "if not os.path.exists(IMG_DIR):\n",
    "    os.mkdir(IMG_DIR)"
   ]
  },
  {
   "cell_type": "code",
   "execution_count": 3,
   "metadata": {},
   "outputs": [],
   "source": [
    "def read_and_resize(src_img = SRC_IMG, size = IMG_SIZE):\n",
    "    img = cv2.imread(src_img)\n",
    "    img = cv2.resize(img, (size, size), cv2.INTER_CUBIC)\n",
    "    return img"
   ]
  },
  {
   "cell_type": "code",
   "execution_count": 4,
   "metadata": {},
   "outputs": [],
   "source": [
    "def generate_shift(img, hratio, vratio):\n",
    "    if hratio >= 1 or hratio <= -1 or vratio >= 1 or vratio <= -1:\n",
    "        print('Ratio values should be less than 1 and greater than -1.')\n",
    "        return img\n",
    "    h = w = IMG_SIZE\n",
    "    hshift = w * hratio\n",
    "    vshift = h * vratio\n",
    "    if hratio > 0:\n",
    "        img = img[:, :int(w - hshift), :]\n",
    "    if hratio < 0:\n",
    "        img = img[:, int(-1 * hshift):, :]\n",
    "    if vratio > 0:\n",
    "        img = img[:int(h - vshift), :, :]\n",
    "    if vratio < 0:\n",
    "        img = img[int(-1 * vshift):, :, :]\n",
    "        \n",
    "    img = cv2.resize(img, (w, h), cv2.INTER_CUBIC)\n",
    "    return img"
   ]
  },
  {
   "cell_type": "code",
   "execution_count": 5,
   "metadata": {},
   "outputs": [],
   "source": [
    "def generate_some_shifted(src_img, gen_img_dir, num_gen = 25, max_hratio = 0.6, max_vratio = 0.6):\n",
    "    img = read_and_resize(src_img)\n",
    "    for i in range(num_gen):\n",
    "        hratio = random.uniform(-max_hratio, max_hratio)\n",
    "        vratio = random.uniform(-max_vratio, max_vratio)\n",
    "        gen_img = generate_shift(img, hratio, vratio)\n",
    "        cv2.imwrite(os.path.join(gen_img_dir, f\"{IMG_CLASS}_shifted_{i}.jpg\"), gen_img)"
   ]
  },
  {
   "cell_type": "code",
   "execution_count": 6,
   "metadata": {},
   "outputs": [],
   "source": [
    "def generate_some_zoomed(src_img, gen_img_dir, num_gen = 25):\n",
    "    img = read_and_resize(src_img)\n",
    "    h = w = IMG_SIZE\n",
    "    for i in range(num_gen):\n",
    "        h_value = random.uniform(0.7, 1)\n",
    "        v_value = random.uniform(0.7, 1)\n",
    "        h_taken = int(h_value*h)\n",
    "        w_taken = int(v_value*w)\n",
    "        h_start = random.randint(0, h-h_taken)\n",
    "        w_start = random.randint(0, w-w_taken)\n",
    "        gen_img = cv2.resize(img[h_start:h_start+h_taken, w_start:w_start+w_taken, :], (150, 150), cv2.INTER_CUBIC)\n",
    "        cv2.imwrite(os.path.join(gen_img_dir, f\"{IMG_CLASS}_zoomed_{i}.jpg\"), gen_img)"
   ]
  },
  {
   "cell_type": "code",
   "execution_count": 7,
   "metadata": {},
   "outputs": [],
   "source": [
    "def generate_some_channel_shifted(src_img, gen_img_dir, num_gen = 25):\n",
    "    img = read_and_resize(src_img)\n",
    "    for i in range(num_gen):\n",
    "        value = int(random.uniform(-50, 50))\n",
    "        gen_img = img + value\n",
    "        gen_img[:,:,:][gen_img[:,:,:]>255]  = 255\n",
    "        gen_img[:,:,:][gen_img[:,:,:]<0]  = 0\n",
    "        gen_img = gen_img.astype(np.uint8)\n",
    "        cv2.imwrite(os.path.join(gen_img_dir, f\"{IMG_CLASS}_channel_shifted_{i}.jpg\"), gen_img)"
   ]
  },
  {
   "cell_type": "code",
   "execution_count": 8,
   "metadata": {},
   "outputs": [],
   "source": [
    "def generate_some_rotated(src_img, gen_img_dir, max_angle = 90, num_gen = 25):\n",
    "    img = read_and_resize(src_img)\n",
    "    h = w = IMG_SIZE\n",
    "    for i in range(num_gen):\n",
    "        angle = int(random.uniform(-max_angle, max_angle))\n",
    "        M = cv2.getRotationMatrix2D((int(w/2), int(h/2)), angle, 1)\n",
    "        gen_img = cv2.warpAffine(img, M, (w, h))\n",
    "        cv2.imwrite(os.path.join(gen_img_dir, f\"{IMG_CLASS}_rotated_{i}.jpg\"), gen_img)"
   ]
  },
  {
   "cell_type": "code",
   "execution_count": 9,
   "metadata": {},
   "outputs": [],
   "source": [
    "# generate_some_shifted(SRC_IMG, IMG_DIR)\n",
    "# generate_some_channel_shifted(SRC_IMG, IMG_DIR)\n",
    "generate_some_zoomed(SRC_IMG, IMG_DIR)"
   ]
  },
  {
   "cell_type": "code",
   "execution_count": 10,
   "metadata": {},
   "outputs": [],
   "source": [
    "count = 0\n",
    "flist = os.listdir(f\"./{IMG_CLASS}\")\n",
    "for f in flist:\n",
    "    img = read_and_resize(os.path.join(f\"./{IMG_CLASS}\", f))\n",
    "    h = w = IMG_SIZE\n",
    "    for i in range(5):\n",
    "        angle = int(random.uniform(-45, 45))\n",
    "        M = cv2.getRotationMatrix2D((int(w/2), int(h/2)), angle, 1)\n",
    "        gen_img = cv2.warpAffine(img, M, (w, h))\n",
    "        cv2.imwrite(os.path.join(IMG_DIR, f\"{IMG_CLASS}_{count}_rotated_{i}.jpg\"), gen_img)\n",
    "    count += 1"
   ]
  },
  {
   "cell_type": "code",
   "execution_count": 19,
   "metadata": {},
   "outputs": [],
   "source": [
    "def int_to_bin_arr(num, length = 4):\n",
    "    while num > 0:\n",
    "        num = num >> 1\n",
    "        print(num)"
   ]
  },
  {
   "cell_type": "code",
   "execution_count": 20,
   "metadata": {},
   "outputs": [
    {
     "name": "stdout",
     "output_type": "stream",
     "text": [
      "4\n",
      "2\n",
      "1\n",
      "0\n"
     ]
    }
   ],
   "source": [
    "int_to_bin_arr(8)"
   ]
  },
  {
   "cell_type": "code",
   "execution_count": null,
   "metadata": {},
   "outputs": [],
   "source": []
  }
 ],
 "metadata": {
  "kernelspec": {
   "display_name": "Python 3",
   "language": "python",
   "name": "python3"
  },
  "language_info": {
   "codemirror_mode": {
    "name": "ipython",
    "version": 3
   },
   "file_extension": ".py",
   "mimetype": "text/x-python",
   "name": "python",
   "nbconvert_exporter": "python",
   "pygments_lexer": "ipython3",
   "version": "3.8.5"
  }
 },
 "nbformat": 4,
 "nbformat_minor": 4
}
