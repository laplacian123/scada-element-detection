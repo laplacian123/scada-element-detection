{
 "cells": [
  {
   "cell_type": "code",
   "execution_count": 1,
   "metadata": {},
   "outputs": [],
   "source": [
    "import cv2\n",
    "import numpy as np"
   ]
  },
  {
   "cell_type": "code",
   "execution_count": 2,
   "metadata": {},
   "outputs": [],
   "source": [
    "img_rgb = cv2.imread('test_img.jpg') \n",
    "img_gray = cv2.cvtColor(img_rgb, cv2.COLOR_BGR2GRAY) \n",
    "template = cv2.imread('tr.jpg',0) "
   ]
  },
  {
   "cell_type": "code",
   "execution_count": 3,
   "metadata": {},
   "outputs": [
    {
     "name": "stdout",
     "output_type": "stream",
     "text": [
      "[[ 38  39  31 ...  39  39  39]\n",
      " [ 83  82  89 ...  92  90  90]\n",
      " [ 83  81  88 ...  92  90  90]\n",
      " ...\n",
      " [ 85  87  96 ...  95  99 100]\n",
      " [ 86  86  96 ...  94  99  99]\n",
      " [ 76  76  88 ...  90  88  88]]\n"
     ]
    }
   ],
   "source": [
    "print(template)"
   ]
  },
  {
   "cell_type": "code",
   "execution_count": 4,
   "metadata": {},
   "outputs": [
    {
     "data": {
      "text/plain": [
       "True"
      ]
     },
     "execution_count": 4,
     "metadata": {},
     "output_type": "execute_result"
    }
   ],
   "source": [
    "w, h = template.shape[::-1] \n",
    "res = cv2.matchTemplate(img_gray,template,cv2.TM_CCOEFF_NORMED) \n",
    "threshold = 0.9\n",
    "loc = np.where(res >= threshold)\n",
    " \n",
    "for pt in zip(*loc[::-1]): \n",
    "    cv2.rectangle(img_rgb, pt, (pt[0] + w, pt[1] + h), (0,255,255), 3) \n",
    "\n",
    "cv2.imwrite('found.jpg',img_rgb)"
   ]
  },
  {
   "cell_type": "code",
   "execution_count": null,
   "metadata": {},
   "outputs": [],
   "source": []
  }
 ],
 "metadata": {
  "kernelspec": {
   "display_name": "Python 3",
   "language": "python",
   "name": "python3"
  },
  "language_info": {
   "codemirror_mode": {
    "name": "ipython",
    "version": 3
   },
   "file_extension": ".py",
   "mimetype": "text/x-python",
   "name": "python",
   "nbconvert_exporter": "python",
   "pygments_lexer": "ipython3",
   "version": "3.8.5"
  }
 },
 "nbformat": 4,
 "nbformat_minor": 4
}
